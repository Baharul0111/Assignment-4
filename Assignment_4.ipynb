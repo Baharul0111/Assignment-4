{
 "cells": [
  {
   "cell_type": "code",
   "execution_count": 1,
   "id": "89984488-23f6-42eb-a2f1-fcfc10026b2f",
   "metadata": {},
   "outputs": [
    {
     "data": {
      "text/plain": [
       "('Baharul', 19)"
      ]
     },
     "execution_count": 1,
     "metadata": {},
     "output_type": "execute_result"
    }
   ],
   "source": [
    "#question 1\n",
    "'''A class is a blueprint for creating objects. It defines a set of attributes and methods that the objects created from the class will have.'''\n",
    "'''An object is an instance of a class and can have their own unique values for attributes.'''\n",
    "#example of class\n",
    "class pwskills:\n",
    "    def __init__(self, name, age):\n",
    "        self.name=name\n",
    "        self.age=age\n",
    "    def get_details(self):\n",
    "        return self.name, self.age\n",
    "#example of object \n",
    "Baharul=pwskills(\"Baharul\", 19)\n",
    "Baharul.get_details()"
   ]
  },
  {
   "cell_type": "code",
   "execution_count": 2,
   "id": "2596a2b8-de43-4e81-b1b7-79e3ef1047a8",
   "metadata": {},
   "outputs": [
    {
     "data": {
      "text/plain": [
       "'Polymorphism is the ability of an object to take on multiple forms. This allows objects of different classes to be used interchangeably, as long as they implement a certain interface (have methods of the same name).'"
      ]
     },
     "execution_count": 2,
     "metadata": {},
     "output_type": "execute_result"
    }
   ],
   "source": [
    "#question 2\n",
    "'''Data abstraction:  It is the process of hiding unnecessary details of an object’s internal structure. By abstracting an object’s data, its structure and behavior can be kept separate and more easily understood.'''\n",
    "'''Encapsulation: It is the process of wrapping data and related functions into a single unit (object). Encapsulation limits access to object data and methods, preventing their misuse and ensuring their proper functioning.'''\n",
    "'''Inheritance: It is the ability to create a new class (child class) from an existing one (parent class). The child class typically inherits the attributes (members and methods) of the parent class, although it can also redefine them.'''\n",
    "'''Polymorphism is the ability of an object to take on multiple forms. This allows objects of different classes to be used interchangeably, as long as they implement a certain interface (have methods of the same name).'''"
   ]
  },
  {
   "cell_type": "code",
   "execution_count": 5,
   "id": "53171fea-52c1-473e-972b-8c6fcc809f77",
   "metadata": {},
   "outputs": [],
   "source": [
    "#question 3\n",
    "''' __init__ function is the constuctor for the class and used for initializing the attributes of an object'''\n",
    "class test :\n",
    "    def __init__(self, a, b):\n",
    "        self.a=a\n",
    "        self.b=b\n",
    "new=test(10,20)"
   ]
  },
  {
   "cell_type": "code",
   "execution_count": 6,
   "id": "d928da41-38b2-48cc-9afe-9caa4baa7128",
   "metadata": {},
   "outputs": [
    {
     "data": {
      "text/plain": [
       "'In OOP, self is a convention used to represent the instance of the class. It refers to the current instance of the class and allows access to its attributes and methods.'"
      ]
     },
     "execution_count": 6,
     "metadata": {},
     "output_type": "execute_result"
    }
   ],
   "source": [
    "#question 4\n",
    "'''In OOP, self is a convention used to represent the instance of the class. It refers to the current instance of the class and allows access to its attributes and methods.'''"
   ]
  },
  {
   "cell_type": "code",
   "execution_count": 9,
   "id": "e3d2b24b-f35f-44df-987e-d79d38f65bb8",
   "metadata": {},
   "outputs": [
    {
     "name": "stdout",
     "output_type": "stream",
     "text": [
      "Animal speaks\n",
      "Dog barks\n",
      "Feature A\n",
      "Feature B\n",
      "Feature C\n",
      "Animal speaks\n",
      "Dog barks\n",
      "Poodle dances\n",
      "Drawing shape\n",
      "Drawing circle\n",
      "Drawing shape\n",
      "Drawing square\n"
     ]
    }
   ],
   "source": [
    "#question 5\n",
    "'''Inheritance: It is the ability to create a new class (child class) from an existing one (parent class). \n",
    "The child class typically inherits the attributes (members and methods) of the parent class, although it can also redefine them.'''\n",
    "\n",
    "#Single Inheritance\n",
    "class Animal:\n",
    "    def speak(self):\n",
    "        print(\"Animal speaks\")\n",
    "\n",
    "class Dog(Animal):\n",
    "    def bark(self):\n",
    "        print(\"Dog barks\")\n",
    "\n",
    "my_dog = Dog()\n",
    "my_dog.speak()\n",
    "my_dog.bark()\n",
    "\n",
    "#Multiple Inheritance\n",
    "class A:\n",
    "    def feature_A(self):\n",
    "        print(\"Feature A\")\n",
    "\n",
    "class B:\n",
    "    def feature_B(self):\n",
    "        print(\"Feature B\")\n",
    "\n",
    "class C(A, B):\n",
    "    def feature_C(self):\n",
    "        print(\"Feature C\")\n",
    "\n",
    "my_object = C()\n",
    "my_object.feature_A()\n",
    "my_object.feature_B()\n",
    "my_object.feature_C()\n",
    "\n",
    "#Multilevel Inheritance\n",
    "class Animal:\n",
    "    def speak(self):\n",
    "        print(\"Animal speaks\")\n",
    "\n",
    "class Dog(Animal):\n",
    "    def bark(self):\n",
    "        print(\"Dog barks\")\n",
    "\n",
    "class Poodle(Dog):\n",
    "    def dance(self):\n",
    "        print(\"Poodle dances\")\n",
    "\n",
    "my_poodle = Poodle()\n",
    "my_poodle.speak() \n",
    "my_poodle.bark() \n",
    "my_poodle.dance()\n",
    "\n",
    "#Hierarchical Inheritance\n",
    "class Shape:\n",
    "    def draw(self):\n",
    "        print(\"Drawing shape\")\n",
    "\n",
    "class Circle(Shape):\n",
    "    def draw_circle(self):\n",
    "        print(\"Drawing circle\")\n",
    "\n",
    "class Square(Shape):\n",
    "    def draw_square(self):\n",
    "        print(\"Drawing square\")\n",
    "\n",
    "my_circle = Circle()\n",
    "my_square = Square()\n",
    "my_circle.draw()\n",
    "my_circle.draw_circle()\n",
    "my_square.draw() \n",
    "my_square.draw_square()"
   ]
  },
  {
   "cell_type": "code",
   "execution_count": null,
   "id": "685edb1d-3cde-4ea4-8728-cf85017e19d1",
   "metadata": {},
   "outputs": [],
   "source": []
  }
 ],
 "metadata": {
  "kernelspec": {
   "display_name": "Python 3 (ipykernel)",
   "language": "python",
   "name": "python3"
  },
  "language_info": {
   "codemirror_mode": {
    "name": "ipython",
    "version": 3
   },
   "file_extension": ".py",
   "mimetype": "text/x-python",
   "name": "python",
   "nbconvert_exporter": "python",
   "pygments_lexer": "ipython3",
   "version": "3.10.8"
  }
 },
 "nbformat": 4,
 "nbformat_minor": 5
}
